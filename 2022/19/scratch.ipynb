{
 "cells": [
  {
   "cell_type": "code",
   "execution_count": 4,
   "metadata": {},
   "outputs": [],
   "source": [
    "import re"
   ]
  },
  {
   "cell_type": "code",
   "execution_count": 1,
   "metadata": {},
   "outputs": [],
   "source": []
  },
  {
   "cell_type": "code",
   "execution_count": 9,
   "metadata": {},
   "outputs": [
    {
     "data": {
      "text/plain": [
       "('1', '3', '4', '2', '20', '4', '7')"
      ]
     },
     "execution_count": 9,
     "metadata": {},
     "output_type": "execute_result"
    }
   ],
   "source": [
    "tuple(re.findall(r\"\\d+\", lines[0]))"
   ]
  },
  {
   "cell_type": "code",
   "execution_count": 21,
   "metadata": {},
   "outputs": [
    {
     "data": {
      "text/plain": [
       "[('1', '3', '4', '2', '20', '4', '7'),\n",
       " ('2', '2', '2', '2', '17', '2', '10'),\n",
       " ('3', '2', '3', '3', '18', '2', '19'),\n",
       " ('4', '4', '3', '4', '18', '4', '11'),\n",
       " ('5', '4', '4', '2', '10', '3', '14'),\n",
       " ('6', '4', '3', '3', '15', '2', '13'),\n",
       " ('7', '2', '4', '4', '11', '3', '8'),\n",
       " ('8', '4', '3', '4', '16', '2', '15'),\n",
       " ('9', '3', '4', '2', '15', '3', '7'),\n",
       " ('10', '2', '4', '4', '16', '3', '13'),\n",
       " ('11', '2', '4', '4', '17', '3', '11'),\n",
       " ('12', '2', '3', '3', '11', '2', '16'),\n",
       " ('13', '4', '3', '3', '10', '3', '10'),\n",
       " ('14', '4', '4', '4', '8', '2', '15'),\n",
       " ('15', '3', '4', '4', '19', '4', '11'),\n",
       " ('16', '2', '4', '3', '17', '4', '20'),\n",
       " ('17', '2', '4', '3', '19', '4', '8'),\n",
       " ('18', '3', '3', '3', '9', '3', '7'),\n",
       " ('19', '4', '3', '3', '7', '2', '7'),\n",
       " ('20', '4', '3', '2', '13', '2', '9'),\n",
       " ('21', '2', '3', '3', '13', '2', '20'),\n",
       " ('22', '2', '3', '3', '9', '3', '9'),\n",
       " ('23', '4', '4', '4', '18', '4', '9'),\n",
       " ('24', '3', '4', '4', '5', '4', '8'),\n",
       " ('25', '4', '4', '4', '14', '3', '16'),\n",
       " ('26', '4', '4', '3', '20', '2', '10'),\n",
       " ('27', '4', '3', '4', '15', '4', '9'),\n",
       " ('28', '4', '3', '2', '15', '2', '8'),\n",
       " ('29', '3', '4', '3', '13', '3', '19'),\n",
       " ('30', '4', '4', '2', '18', '4', '20')]"
      ]
     },
     "execution_count": 21,
     "metadata": {},
     "output_type": "execute_result"
    }
   ],
   "source": [
    "input = open(\"./input\", \"r\")\n",
    "lines = input.readlines()\n",
    "\n",
    "\n",
    "bp = [ tuple(re.findall(r\"\\d+\", l)) for l in lines]\n",
    "bp"
   ]
  },
  {
   "cell_type": "code",
   "execution_count": 16,
   "metadata": {},
   "outputs": [
    {
     "data": {
      "text/plain": [
       "[]"
      ]
     },
     "execution_count": 16,
     "metadata": {},
     "output_type": "execute_result"
    }
   ],
   "source": [
    "bp"
   ]
  },
  {
   "cell_type": "code",
   "execution_count": 19,
   "metadata": {},
   "outputs": [
    {
     "ename": "SyntaxError",
     "evalue": "invalid syntax (308299781.py, line 1)",
     "output_type": "error",
     "traceback": [
      "\u001b[0;36m  Cell \u001b[0;32mIn[19], line 1\u001b[0;36m\u001b[0m\n\u001b[0;31m    re.findall(r\"\\d+\", line) for line in input.readlines()\u001b[0m\n\u001b[0m                             ^\u001b[0m\n\u001b[0;31mSyntaxError\u001b[0m\u001b[0;31m:\u001b[0m invalid syntax\n"
     ]
    }
   ],
   "source": [
    "re.findall(r\"\\d+\", line) "
   ]
  },
  {
   "cell_type": "code",
   "execution_count": null,
   "metadata": {},
   "outputs": [],
   "source": []
  }
 ],
 "metadata": {
  "kernelspec": {
   "display_name": "Python 3",
   "language": "python",
   "name": "python3"
  },
  "language_info": {
   "codemirror_mode": {
    "name": "ipython",
    "version": 3
   },
   "file_extension": ".py",
   "mimetype": "text/x-python",
   "name": "python",
   "nbconvert_exporter": "python",
   "pygments_lexer": "ipython3",
   "version": "3.10.8"
  },
  "orig_nbformat": 4,
  "vscode": {
   "interpreter": {
    "hash": "b0fa6594d8f4cbf19f97940f81e996739fb7646882a419484c72d19e05852a7e"
   }
  }
 },
 "nbformat": 4,
 "nbformat_minor": 2
}
